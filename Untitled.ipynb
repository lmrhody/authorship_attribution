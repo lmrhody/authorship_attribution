{
 "cells": [
  {
   "cell_type": "code",
   "execution_count": null,
   "metadata": {},
   "outputs": [],
   "source": [
    "import nltk\n",
    "import matplotlib"
   ]
  },
  {
   "cell_type": "code",
   "execution_count": 1,
   "metadata": {},
   "outputs": [],
   "source": [
    "papers = {\n",
    "    'Madison': [10, 14, 37, 38, 39, 40, 41, 42, 43, 44, 45, 46, 47, 48],\n",
    "    'Hamilton': [1, 6, 7, 8, 9, 11, 12, 13, 15, 16, 17, 21, 22, 23, 24, \n",
    "                 25, 26, 27, 28, 29, 30, 31, 32, 33, 34, 35, 36, 59, 60,\n",
    "                 61, 65, 66, 67, 68, 69, 70, 71, 72, 73, 74, 75, 76, 77, \n",
    "                 78, 79, 80, 81, 82, 83, 84, 85],\n",
    "    'Jay': [2, 3, 4, 5],\n",
    "    'Shared': [18, 19, 20],\n",
    "    'Disputed': [49, 50, 51, 52, 53, 54, 55, 56, 57, 58, 62, 63],\n",
    "    'TestCase': [64]\n",
    "}\n"
   ]
  },
  {
   "cell_type": "code",
   "execution_count": 6,
   "metadata": {},
   "outputs": [],
   "source": [
    "# A function that compiles all of the text files associated with a single author into a single string\n",
    "def read_files_into_string(filenames):\n",
    "    strings = []\n",
    "    for filename in filenames:\n",
    "        with open(f'federalist_{filename}.txt') as f:\n",
    "            strings.append(f.read())\n",
    "    return '\\n'.join(strings)"
   ]
  },
  {
   "cell_type": "code",
   "execution_count": 7,
   "metadata": {},
   "outputs": [],
   "source": [
    "# Make a dictionary out of the authors' corpora\n",
    "federalist_by_author = {}  \n",
    "for author, files in papers.items():\n",
    "    federalist_by_author[author] = read_files_into_string(files)"
   ]
  },
  {
   "cell_type": "code",
   "execution_count": 8,
   "metadata": {},
   "outputs": [
    {
     "name": "stdout",
     "output_type": "stream",
     "text": [
      " 10\n",
      "\n",
      "The Same Subject Continued (The Union as a Safeguard Against Domestic\n",
      "Faction and Insurrection)\n",
      " 1\n",
      "\n",
      "General Introduction\n",
      "\n",
      "For the Independent Journal. Saturday, October 27, 1787\n",
      "\n",
      "\n",
      "HAMILTON\n",
      "\n",
      "To the\n",
      " 2\n",
      "\n",
      "Concerning Dangers from Foreign Force and Influence\n",
      "\n",
      "For the Independent Journal. Wednesday, Oct\n",
      " 18\n",
      "\n",
      "The Same Subject Continued (The Insufficiency of the Present\n",
      "Confederation to Preserve the Unio\n",
      " 49\n",
      "\n",
      "Method of Guarding Against the Encroachments of Any One Department of\n",
      "Government by Appealing t\n",
      " 64\n",
      "\n",
      "The Powers of the Senate\n",
      "\n",
      "From The Independent Journal. Wednesday, March 5, 1788.\n",
      "\n",
      "JAY\n",
      "\n",
      "To the \n"
     ]
    }
   ],
   "source": [
    "for author in papers: \n",
    "    print(federalist_by_author[author][:100])"
   ]
  },
  {
   "cell_type": "code",
   "execution_count": null,
   "metadata": {},
   "outputs": [],
   "source": []
  }
 ],
 "metadata": {
  "kernelspec": {
   "display_name": "Python 3",
   "language": "python",
   "name": "python3"
  },
  "language_info": {
   "codemirror_mode": {
    "name": "ipython",
    "version": 3
   },
   "file_extension": ".py",
   "mimetype": "text/x-python",
   "name": "python",
   "nbconvert_exporter": "python",
   "pygments_lexer": "ipython3",
   "version": "3.7.3"
  }
 },
 "nbformat": 4,
 "nbformat_minor": 2
}
